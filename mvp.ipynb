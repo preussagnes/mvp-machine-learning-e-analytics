{
  "nbformat": 4,
  "nbformat_minor": 0,
  "metadata": {
    "colab": {
      "provenance": []
    },
    "kernelspec": {
      "name": "python3",
      "display_name": "Python 3"
    },
    "language_info": {
      "name": "python"
    }
  },
  "cells": [
    {
      "cell_type": "markdown",
      "source": [
        "**Introdução**\n",
        "\n",
        "A Lei Seca brasileira (Lei 11.705/08) sancionada em junho de 2008, foi criada com o objetivo de combater a combinação de álcool e direção e consequentemente reduzir os acidentes e as mortes no trânsito das cidades brasileiras. Estabeleceu-se a tolerância zero para o nível de álcool no sangue dos condutores de veículos, permitiu-se a aplicação de testes de alcoolemia, como o bafômetro, e imputou-se penalidades mais severas, incluindo-se multas, suspensão da habilitação e, em casos graves, a criminalização.\n",
        "\n",
        "Diante desse cenário, este trabalho tem como hipótese entender se a implementação da Lei Seca no Brasil impactou positivamente a ocorrência de acidentes envolvendo álcool.\n"
      ],
      "metadata": {
        "id": "l_jfsz0nDpgm"
      }
    },
    {
      "cell_type": "markdown",
      "source": [
        "**Descrição do Dataset**\n",
        "\n",
        "Para a realização deste trabalho, foi utilizado um dataset disponível no Kaggle, denominado \"Brazil Traffic Incidents\", que fornece informações sobre acidentes de veículos no Brasil entre os anos de 2007 à 2023. Este está organizado em 18 tabelas no formato CSV, sendo 17 delas dedicadas a dados sobre os acidentes e uma sobre dados dos radares.\n",
        "\n",
        "Originalmente cada tabela contém entre 26 a 30 atributos, oferecendo uma visão abrangente dos incidentes, incluindo a localização das vias, detalhes dos acidentes, causas, vítimas, entre outros.\n",
        "\n",
        "No entanto, para este estudo, foram utilizadas apenas as informações das tabelas até o ano de 2022, visto que os dados de 2023 ainda não estavam completos e os dados dos radares foram descartados. Além disso, foram selecionados somente um atributos e acrescentado mais dois novos, que se refere ao ano do acidente e se o acidente envolveu consumo de álcool, conforme descrito abaixo:\n",
        "\n",
        "**Dados:**\n",
        "* Unidade Federativa: : Unidade Federativa que aonde ocorreu o acidente;\n",
        "* Ano: Ano que ocorreu o acidente;\n",
        "* Acidente com Álcool: Identifica se o acidente envolveu álcool (1 para sim e 0 para não).\n"
      ],
      "metadata": {
        "id": "gH8eWy6WGLrE"
      }
    },
    {
      "cell_type": "markdown",
      "source": [
        "**Carga de Dados**\n",
        "\n",
        "Para realizar a importação dos dados, o dataset foi armazenado no GitHub e posteriormente, as tabelas referentes aos dados dos acidentes, foram concatenadas em um único DataFrame. Em seguida, os nomes das colunas foram modificados para aumentar a legibilidade, foi acrescida a coluna \"Ano\" e  os campos nulos ou faltantes, que estavam definidos como ‘(null)’, tiveram seus valores convertidos para NaN (Not a Number), permitindo o tratamento adequado posteriormente."
      ],
      "metadata": {
        "id": "DyM0zM2JDyiA"
      }
    },
    {
      "cell_type": "code",
      "execution_count": null,
      "metadata": {
        "id": "_6zvtv5bB4er"
      },
      "outputs": [],
      "source": [
        "# Configuração para não exibir os warnings\n",
        "import warnings\n",
        "warnings.filterwarnings(\"ignore\")\n",
        "\n",
        "# Importação de pacotes\n",
        "import pandas as pd\n",
        "import numpy as np\n",
        "\n",
        "#Tratamento de Missings\n",
        "import missingno as ms\n",
        "\n",
        "#Construção de gráficos\n",
        "import matplotlib.pyplot as plt\n",
        "\n",
        "#Exibição de dados\n",
        "#from IPython.display import display\n",
        "\n",
        "# Importação da função para dividir o dataset em conjuntos de treino e teste\n",
        "from sklearn.model_selection import train_test_split\n",
        "from sklearn.model_selection import cross_val_score, KFold\n",
        "\n",
        "# Importação de métricas de avaliação MSE\n",
        "from sklearn.metrics import mean_squared_error\n",
        "\n",
        "# Importação dos algoritmos de regressão e outros modelos\n",
        "from sklearn.linear_model import LinearRegression, Ridge, Lasso\n",
        "from sklearn.neighbors import KNeighborsRegressor\n",
        "from sklearn.tree import DecisionTreeRegressor\n",
        "from sklearn.svm import SVR\n",
        "from sklearn.model_selection import GridSearchCV\n",
        "\n",
        "# Preprocessamento\n",
        "from sklearn.preprocessing import LabelEncoder"
      ]
    },
    {
      "cell_type": "code",
      "source": [
        "# Lista dos anos\n",
        "anos = list(range(2007, 2023))\n",
        "\n",
        "# Lista para armazenar os DataFrames\n",
        "dfs = []\n",
        "\n",
        "# Colunas a serem lidas\n",
        "colunas = ['uf', 'causa_acidente']\n",
        "\n",
        "# Caminho base dos arquivos no GitHub\n",
        "base_url = 'https://github.com/preussagnes/mvp-machine-learning-e-analytics/raw/main/DataSet/Dados_PRF_'\n",
        "\n",
        "# Criação da url do arquivo conforme o ano\n",
        "for ano in anos:\n",
        "\n",
        "    url = f\"{base_url}{ano}.csv\"\n",
        "\n",
        "    # Leitura do dataset, mantendo apenas as colunas desejadas e tratando NaNs\n",
        "    df = pd.read_csv(url, usecols=colunas, encoding='latin1', delimiter=';', na_values=['(null)'])\n",
        "\n",
        "    # Renomeação das colunas para maior legibilidade\n",
        "    df.rename(columns={ 'uf': 'Unidade Federativa', 'causa_acidente': 'Causa do Acidente'}, inplace=True)\n",
        "\n",
        "    # Adicionamento da coluna de ano\n",
        "    df['Ano'] = ano\n",
        "\n",
        "    # Adicionamento do DataFrame à lista\n",
        "    dfs.append(df)\n",
        "\n",
        "# Concatenação em um único DataFrame\n",
        "df = pd.concat(dfs, ignore_index=True)\n",
        "\n",
        "# Verificcação dos primeiros registros\n",
        "print(df.head())\n",
        "print(\"Valores nulos por coluna:\")\n",
        "print(df.isnull().sum(),'\\n')\n"
      ],
      "metadata": {
        "id": "ZAFo--QeSH7v",
        "colab": {
          "base_uri": "https://localhost:8080/"
        },
        "outputId": "449888a0-ab6a-486c-cd29-67e41f2cd30b"
      },
      "execution_count": null,
      "outputs": [
        {
          "output_type": "stream",
          "name": "stdout",
          "text": [
            "  Unidade Federativa            Causa do Acidente   Ano\n",
            "0                 MG             Falta de atenção  2007\n",
            "1                 MG             Falta de atenção  2007\n",
            "2                 MG                       Outras  2007\n",
            "3                 MA             Animais na Pista  2007\n",
            "4                 CE  Defeito mecânico em veículo  2007\n",
            "Valores nulos por coluna:\n",
            "Unidade Federativa    12\n",
            "Causa do Acidente      2\n",
            "Ano                    0\n",
            "dtype: int64 \n",
            "\n"
          ]
        }
      ]
    },
    {
      "cell_type": "markdown",
      "source": [
        "**Preparação dos dados**\n",
        "\n",
        "Após a concatenação em um único DataFrame foram realizadas algumas alterações no dataset:\n",
        "\n",
        "* As linhas contendo valores nulos foram removidas, para garantir a consistência do conjunto de dados;\n",
        "* A variável categórica, \"Unidade Federativa\", foi convertida em valor numérico, facilitando sua interpretação pelos modelos;\n",
        "* Foi adicionado uma nova coluna, \"Acidente com Álcool\";\n",
        "* Foi descartado a coluna \"Causa do Acidente\".\n",
        "\n",
        "Visando a análise temporal e regional, os dados foram agrupados por ano e unidade federativa, somando os acidentes relacionados ao consumo de álcool em cada grupo. Logo após, as variáveis independentes (x) e a variável dependente (y) foram definidas e separadas em conjuntos de treino e teste (80% e 20%, respectivamente). Por fim, foi criada uma configuração para validação cruzada com 10 partições (folds), permitindo uma avaliação robusta dos modelos com diferentes divisões dos dados."
      ],
      "metadata": {
        "id": "a2Ho0pcJI88y"
      }
    },
    {
      "cell_type": "code",
      "source": [
        "#Exclusão das linhas que contenham algum valor missing (NaN)\n",
        "df=df.dropna(how='any')\n",
        "\n",
        "# Converção da variáveis categóricas em variáveis numéricas\n",
        "le_uf = LabelEncoder()\n",
        "df['Unidade Federativa'] = le_uf.fit_transform(df['Unidade Federativa'])\n",
        "\n",
        "#Criação da coluna 'Acidente com Álcool' para representar se o acidente envolve álcool (1) e 0 caso contrário\n",
        "df['Acidente com Álcool'] = df['Causa do Acidente'].str.contains('álcool', case=False, na=False).astype(int)\n",
        "\n",
        "#Exclusão da Coluna 'Causa do Acidente'\n",
        "df.drop(columns=['Causa do Acidente'], inplace=True)\n",
        "\n",
        "# CRiação da variável referente a quantidade de acidentes com álcool por ano e estado\n",
        "df_grouped = df.groupby(['Ano', 'Unidade Federativa'])['Acidente com Álcool'].sum().reset_index(name='quantidade_acidentes_alcool')\n",
        "\n",
        "# Definindo x (atributos) e y (target)\n",
        "x = df_grouped[['Ano', 'Unidade Federativa']]  # variáveis independentes\n",
        "y = df_grouped['quantidade_acidentes_alcool']  # variável dependente\n",
        "\n",
        "#Separação entre treino (80%) e teste (20%)\n",
        "x_train, x_test, y_train, y_test = train_test_split(x, y, test_size=0.2, random_state=7)\n",
        "\n",
        "# Criação dos folds para a validação cruzada\n",
        "num_particoes = 10  # número de folds da validação cruzada\n",
        "kfold = KFold(n_splits=num_particoes, shuffle=True, random_state=7)  # faz o particionamento em 10 folds\n"
      ],
      "metadata": {
        "id": "PrncPGfpI7Po"
      },
      "execution_count": null,
      "outputs": []
    },
    {
      "cell_type": "markdown",
      "source": [
        "**Modelagem e Treinamento**\n",
        "\n",
        "Para este trabalho, optou-se por utilizar modelos de aprendizado de máquina para problemas de regressão, possibilitando não apenas entender tendências históricas, mas também realizar previsões futuras referentes a quantidade de acidentes envolvendo álcool. Sendo assim, foram treinados os modelos de Regressão Linear (LR), Regressão Ridge, Regressão Lasso, Regressor K-Nearest Neighbors (KNN), Regressor de Árvore de Decisão (CART) e Regressor de Vetores de Suporte (SVM).\n",
        "\n",
        "Como métricas de avaliação, foram utilizados o Erro Quadrático Médio (MSE) e a Raiz do Erro Quadrático Médio (RMSE), ambas adequadas para problemas de regressão, pois penalizam erros maiores com mais intensidade e são úteis para avaliar a performance do modelo na previsão de valores contínuos. Além disso, o desvio padrão dos resultados da validação cruzada foi calculado, complementando a avaliação ao indicar a estabilidade do modelo em diferentes folds e auxiliando na identificação de possíveis tendências de overfitting ou underfitting."
      ],
      "metadata": {
        "id": "edAPYuddWrak"
      }
    },
    {
      "cell_type": "code",
      "source": [
        "# Definindo uma seed global\n",
        "np.random.seed(7)\n",
        "\n",
        "# Lista de modelos para comparar\n",
        "models = []\n",
        "models.append(('LR', LinearRegression()))\n",
        "models.append(('Ridge', Ridge()))\n",
        "models.append(('Lasso', Lasso()))\n",
        "models.append(('KNN', KNeighborsRegressor()))\n",
        "models.append(('CART', DecisionTreeRegressor()))\n",
        "models.append(('SVM', SVR()))\n",
        "\n",
        "# Avaliação de cada modelo usando validação cruzada\n",
        "results = []\n",
        "names = []\n",
        "\n",
        "for name, model in models:\n",
        "    # Validação cruzada e cálculo do MSE negativo (quanto menor, melhor)\n",
        "    cv_results = cross_val_score(model, x_train, y_train, cv=kfold, scoring='neg_mean_squared_error')\n",
        "\n",
        "    # Armazenamento dos resultados\n",
        "    results.append(cv_results)\n",
        "    names.append(name)\n",
        "\n",
        "    # Impressão dos resultados (MSE e RMSE)\n",
        "    msg = \"%s: MSE %0.2f (%0.2f) - RMSE %0.2f\" % (name, abs(cv_results.mean()), cv_results.std(), np.sqrt(abs(cv_results.mean())))\n",
        "    print(msg)\n",
        "\n",
        "# Comparação visual dos resultados com um boxplot\n",
        "fig = plt.figure()\n",
        "fig.suptitle('Comparação do MSE dos Modelos')\n",
        "ax = fig.add_subplot(111)\n",
        "plt.boxplot(results)\n",
        "ax.set_xticklabels(names)\n",
        "plt.show()\n"
      ],
      "metadata": {
        "colab": {
          "base_uri": "https://localhost:8080/",
          "height": 582
        },
        "id": "gHWXUuKBJGz0",
        "outputId": "b39d038a-89ef-447b-85a3-2b7fcfee0fe6"
      },
      "execution_count": null,
      "outputs": [
        {
          "output_type": "stream",
          "name": "stdout",
          "text": [
            "LR: MSE 52197.95 (25764.31) - RMSE 228.47\n",
            "Ridge: MSE 52197.89 (25764.43) - RMSE 228.47\n",
            "Lasso: MSE 52188.88 (25767.97) - RMSE 228.45\n",
            "KNN: MSE 42361.72 (14484.74) - RMSE 205.82\n",
            "CART: MSE 4338.53 (4528.60) - RMSE 65.87\n",
            "SVM: MSE 62837.62 (33828.39) - RMSE 250.67\n"
          ]
        },
        {
          "output_type": "display_data",
          "data": {
            "text/plain": [
              "<Figure size 640x480 with 1 Axes>"
            ],
            "image/png": "[encoded data removed]"
          },
          "metadata": {}
        }
      ]
    },
    {
      "cell_type": "markdown",
      "source": [
        "Com base nos valores de MSE, RMSE e desvio padrão, observou-se que o modelo CART apresentou o melhor desempenho geral. No entanto, a alta variabilidade nos resultados sugere uma possível tendência ao overfitting, já que o modelo parece se ajustar excessivamente a alguns folds. Os modelos de Regressão Linear, Ridge e Lasso apresentaram desempenhos semelhantes, com altos valores de MSE e RMSE, o que sugere que a regularização imposta por esses métodos pode ter levado a underfitting, não capturando padrões adequados nos dados. Já o modelo KNN obteve um desempenho intermediário e o modelo SVM apresentou os maiores valores de MSE e RMSE, o que o tornou o modelo menos adequado para este problema."
      ],
      "metadata": {
        "id": "lx9opL3wpr8c"
      }
    },
    {
      "cell_type": "markdown",
      "source": [
        " Buscando a melhora da qualidade das predições, foi realizado uma execução com os hiperparâmetros ajustados com base em valores amplamente utilizados.\n",
        "\n"
      ],
      "metadata": {
        "id": "_S01SN7ilcA6"
      }
    },
    {
      "cell_type": "code",
      "source": [
        "# Lista de modelos com hiperparâmetros para ajuste\n",
        "models = [\n",
        "    ('LR', LinearRegression(), {}),\n",
        "    ('Ridge', Ridge(), {'alpha': [0.1, 1.0, 10]}),\n",
        "    ('Lasso', Lasso(), {'alpha': [0.01, 0.1, 1.0]}),\n",
        "    ('KNN', KNeighborsRegressor(), {'n_neighbors': [3, 5, 7]}),\n",
        "    ('CART', DecisionTreeRegressor(), {'max_depth': [None, 5, 10], 'min_samples_split': [2, 5]}),\n",
        "    ('SVM', SVR(), {'C': [0.1, 1, 10], 'kernel': ['linear', 'rbf']})\n",
        "]\n",
        "\n",
        "# Avaliação de cada modelo com ajuste de hiperparâmetros\n",
        "results = []\n",
        "names = []\n",
        "best_params = {}\n",
        "\n",
        "for name, model, params in models:\n",
        "    if params:  # Se há hiperparâmetros para ajustar\n",
        "        grid_search = GridSearchCV(model, param_grid=params, cv=kfold, scoring='neg_mean_squared_error')\n",
        "        grid_search.fit(x_train, y_train)\n",
        "        best_model = grid_search.best_estimator_\n",
        "        best_params[name] = grid_search.best_params_\n",
        "    else:  # Sem ajuste\n",
        "        best_model = model.fit(x_train, y_train)\n",
        "\n",
        "    # Validação cruzada com o melhor modelo\n",
        "    cv_results = cross_val_score(best_model, x_train, y_train, cv=kfold, scoring='neg_mean_squared_error')\n",
        "    results.append(cv_results)\n",
        "    names.append(name)\n",
        "\n",
        "    # Imprimindo os resultados (MSE e RMSE)\n",
        "    msg = \"%s: MSE %0.2f (%0.2f) - RMSE %0.2f\" % (\n",
        "        name, abs(cv_results.mean()), cv_results.std(), np.sqrt(abs(cv_results.mean()))\n",
        "    )\n",
        "    print(msg)\n",
        "\n",
        "# Comparação visual dos resultados com um boxplot\n",
        "fig = plt.figure()\n",
        "fig.suptitle('Comparação do MSE dos Modelos com Ajuste de Hiperparâmetros')\n",
        "ax = fig.add_subplot(111)\n",
        "plt.boxplot(results)\n",
        "ax.set_xticklabels(names)\n",
        "plt.show()\n",
        "\n"
      ],
      "metadata": {
        "colab": {
          "base_uri": "https://localhost:8080/",
          "height": 582
        },
        "id": "jp29fBeB5qv7",
        "outputId": "a9f512e4-da13-4fac-ae5c-c02e591b0855"
      },
      "execution_count": null,
      "outputs": [
        {
          "output_type": "stream",
          "name": "stdout",
          "text": [
            "LR: MSE 52197.95 (25764.31) - RMSE 228.47\n",
            "Ridge: MSE 52197.32 (25765.47) - RMSE 228.47\n",
            "Lasso: MSE 52188.88 (25767.97) - RMSE 228.45\n",
            "KNN: MSE 31572.36 (11545.05) - RMSE 177.69\n",
            "CART: MSE 4343.03 (4528.73) - RMSE 65.90\n",
            "SVM: MSE 56996.21 (30752.57) - RMSE 238.74\n"
          ]
        },
        {
          "output_type": "display_data",
          "data": {
            "text/plain": [
              "<Figure size 640x480 with 1 Axes>"
            ],
            "image/png": "[encoded data removed]"
          },
          "metadata": {}
        }
      ]
    },
    {
      "cell_type": "markdown",
      "source": [
        " Ao comparar os novos resultados com os anteriores, observa-se que o modelo CART manteve o melhor desempenho, mesmo não tendo apresentado uma melhoria após a execução com os hiperparâmetros. Por outro lado, o modelo KNN apresentou uma melhoria significativa no desempenho, reduzindo seu MSE e RMSE. Os modelos de Regressão Linear, Ridge e Lasso, apresentaram uma pequena variação nos valores de MSE e RMSE, sugerindo uma leve melhoria em relação à execução anterior. Já o modelo SVM ainda apresentou resultados elevados, mantendo sua posição como modelo com desempenho mais baixo.\n",
        "\n",
        "Uma possibilidade para melhorar ainda mais o desempenho seria a consideração de métodos mais avançados ou complexos, como o Random Forest, um ensemble de árvores de decisão que reduz overfitting, ou o Gradient Boosting (XGBoost, LightGBM, CatBoost), que ajusta erros residuais de forma sequencial e apresenta um bom desempenho em problemas de regressão.\n",
        "\n",
        "Outra abordagem seria criar um comitê de modelos, como um Voting Regressor, que combina previsões de diferentes regressões (Ridge, Lasso, Decision Trees), ou um Bagging Regressor, que treina múltiplos modelos independentes, reduzindo overfitting.\n"
      ],
      "metadata": {
        "id": "OC6cKJcx8nSg"
      }
    },
    {
      "cell_type": "markdown",
      "source": [
        "**Avaliação dos Resultados**\n",
        "\n",
        "Foi utilizado o modelo de Árvore de Decisão (CART) para prever valores do conjunto de dados de teste. Em seguida, foi feita a avalição do modeco com o cálculo do Erro Quadrático Médio (MSE) e da Raiz do Erro Quadrático Médio (RMSE)."
      ],
      "metadata": {
        "id": "kpRZVVJ1o8n8"
      }
    },
    {
      "cell_type": "code",
      "source": [
        "# Definição do modelo CART (Árvore de Decisão)\n",
        "model = DecisionTreeRegressor()\n",
        "\n",
        "# Treinamento do modelo com os dados de treino\n",
        "model.fit(x_train, y_train)\n",
        "\n",
        "# Predições com o conjunto de teste\n",
        "predictions = model.predict(x_test)\n",
        "\n",
        "# Estimativa do MSE e o RMSE no conjunto de teste\n",
        "mse = mean_squared_error(y_test, predictions)\n",
        "print(\"MSE %0.2f\" % mse)\n",
        "print(\"RMSE %0.2f\" % np.sqrt(abs(mse)))\n",
        "\n"
      ],
      "metadata": {
        "colab": {
          "base_uri": "https://localhost:8080/"
        },
        "id": "Cup4WMGJ-4Tp",
        "outputId": "90c90ab2-2f61-4138-aefe-f1a6c884a4e2"
      },
      "execution_count": null,
      "outputs": [
        {
          "output_type": "stream",
          "name": "stdout",
          "text": [
            "MSE 1424.43\n",
            "RMSE 37.74\n"
          ]
        }
      ]
    },
    {
      "cell_type": "markdown",
      "source": [
        "\n",
        "Os resultados apresentados indicam que o modelo tem um bom desempenho nas previsões, com um erro médio relativamente baixo. O MSE e o RMSE sugerem que o modelo foi capaz de prever os valores com precisão razoáve. Não foi identificado um problema claro de overfitting, por mais que modelos de Árvore de Decisão, como o CART, têm uma tendência a se ajustar excessivamente aos dados de treinamento, o que pode prejudicar o desempenho quando o modelo é aplicado a novos dados."
      ],
      "metadata": {
        "id": "hl7-qaXcTFxh"
      }
    }
  ]
}